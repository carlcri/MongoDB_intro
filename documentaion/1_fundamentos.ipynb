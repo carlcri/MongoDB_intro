{
 "cells": [
  {
   "attachments": {},
   "cell_type": "markdown",
   "metadata": {},
   "source": [
    "# Fundamentos de MongoDB"
   ]
  },
  {
   "attachments": {},
   "cell_type": "markdown",
   "metadata": {},
   "source": [
    "Instructor: Nicolas Molina\n",
    "\n",
    "https://github.com/platzi/curso-mongodb-intro"
   ]
  },
  {
   "attachments": {},
   "cell_type": "markdown",
   "metadata": {},
   "source": [
    "## Bases de Datos NoSQL\n",
    "\n",
    "### Tipos de Bases NoSQL\n",
    "\n",
    "- Documentales: se empareja cada clave con una estructura de datos compleja que se denomina documento, existen otras bases de datos documentales como Cloud Firestore o Couchbase. **MongoDB**\n",
    "\n",
    "- Grafos: Se utilizan para almacenar información sobre redes de datos, como las conexiones sociales. **neo4j** es uno de los ejemplos mas populares de bases datos de este tipo.\n",
    "\n",
    "- Clave-Valor: Son las bases de datos NoSQL mas simples. Cada elemento de la base de datos se almacena como un nombre de atributo (o “clave”), junto con su valor para acceso de memoria rápida. un ejemplo de estas bases de datos es **redis**.\n",
    "\n",
    "- Orientada a columnas: Estas bases de datos, como **Cassandra** (la mas popular) o Hbase, permiten realizar consultas en grandes conjuntos y almacenan los datos en columnas, en lugar de filas.\n"
   ]
  },
  {
   "attachments": {},
   "cell_type": "markdown",
   "metadata": {},
   "source": [
    "\n",
    "Las bases de datos NoSQL tienen la característica de tener gran facilidad de escalamiento. Hay dos tipos de escalamiento: vertical y horizontal.\n",
    "\n",
    "- Escalamiento vertical: incrementar las características de esa misma maquina (+RAM, +CPU, +almacenamiento). Por ejemplo, aumentar la memoria RAM de mi computadora \n",
    "\n",
    "- Escalamiento horizontal: Tener una maquina (o nodo) y “copiarla” (ahora tienes varios nodos o maquinas con las mismas características), asegurando alta disponibilidad, sistemas de replicacion o tener un conjunto que responda en simultaneo. Esto te libera de la necesidad de escalar de forma vertical.\n",
    "\n",
    "![](https://i.imgur.com/SJ6CbqY.png)\n",
    "\n",
    "El escalamiento vertical es mas economico al principio, y conforme pasa el tiempo su crecimiento es exponencial. Contrario al escalamiento horizontal, que en principio es mas costoso, pero luego el costo se vuelve lineal. \n",
    "\n",
    "Las bases de datos NoSQL aprovechan muy bien el Escalamiento horizontal: puedes armar un cluster de información en el que los datos se van a conectar entre si (varios nodos). Esto hace que los bases datos de datos NoSQL sea mas fácilmente escalables o replicable que una SQL.\n",
    "\n"
   ]
  },
  {
   "attachments": {},
   "cell_type": "markdown",
   "metadata": {},
   "source": [
    "### Que es Replicacion? \n",
    "\n",
    "una técnica en la que, una ves distribuimos la base de datos en varios \n",
    "nodos (EH😉), mediante un *load balancer*, asigna las peticiones y consultas a cada uno de los nodos en una forma ordenada. Esto permite procesamiento en paralelo y también alta disponibilidad (si una replica falla, habrá otra disponible). Esto no es posible en el escalamiento vertical.\n",
    "\n",
    "![](https://i.imgur.com/u1xjCfV.png)\n",
    "\n",
    "Este curso de introducion a MongoDB es la base para uno posterior que se llama *curso de Modelado de datos con MongoDB*\n",
    "\n",
    "Recomiendo esta Guia de Datos no relacionales y este link de la documentacion de Azure si quieren profundizar un poco sobre estos temas.\n",
    "\n",
    "https://azure.microsoft.com/es-es/resources/cloud-computing-dictionary/what-is-nosql-database\n"
   ]
  },
  {
   "attachments": {},
   "cell_type": "markdown",
   "metadata": {},
   "source": [
    "## Que son los Documentos y Colecciones\n",
    "\n",
    "Los documentos es la forma en que Mongo va a almacenar la información que este dentro de un dominio (entidad) o que queramos tener allí.\n",
    "\n",
    "Una forma de organizar y almacenar información con un conjunto de pares clave-valor.\n",
    "\n",
    "Ejemplos de dominio:\n",
    "\n",
    "- Los productos de un ecommerce.\n",
    "- Las clases de un curso.\n",
    "- El inventario de una tienda.\n",
    "\n",
    "Aqui tenemos un documento que se abre con los corchetes. Este documento podria ser uno que describe el alumno de una clase\n",
    "\n",
    "![](https://i.imgur.com/bpYcPfD.png)"
   ]
  },
  {
   "attachments": {},
   "cell_type": "markdown",
   "metadata": {},
   "source": [
    "En el siguiente Documento tenemos un documento anidado que pertenece a la localizacion de la ciudad\n",
    "\n",
    "![](https://i.imgur.com/goNZQWx.png)"
   ]
  },
  {
   "attachments": {},
   "cell_type": "markdown",
   "metadata": {},
   "source": [
    "### Ejemplo\n",
    "\n",
    "Suponga que se quieren guardar todos los contactos que hay las diferentes tarjetas de presentacion en una base de datos. Si los empezamos a guardar por ejemplo en una base de datos relacional, y a medida que los vamos guardando, aparece un contacto que tiene una red social distinta a la que inicialmente habiamos diseñado la BD, tendriamos que abrir una nueva columna, y tener espacios vacios, para los registros anteriores.\n",
    "\n",
    "Con una base de datos NoSQL, el esquema es flexible, porque se entiende que no todos los documentos tendran exactamente los mismos campos. Compartiran unos y otros seguramente no. \n",
    "\n",
    "### Que son la Colecciones.\n",
    "\n",
    "MongoDB almacena *documentos* en una colección, usualmente con campos comunes entre sí, o un modelo de datos que se relaciona. \n",
    "\n",
    "Por ejemplo, podriamos tener una coleccion con los productos de nuestro eCommerce, y otra coleccion de usuarios, con los usuarios de nuestra aplicacion. \n"
   ]
  },
  {
   "attachments": {},
   "cell_type": "markdown",
   "metadata": {},
   "source": [
    "## Creeando tu primer BD NoSQL\n",
    "\n",
    "Ir a https://www.mongodb.com/ y nos registramos, para mi caso lo voy hacer con una cuenta especifica, con la que tendremos unas caracteristicas basicas gratis.\n",
    "\n",
    "Empezar por crear un Base de Datos\n",
    "\n",
    "![](https://i.imgur.com/XXOL3db.png)\n",
    "\n",
    "Y como siempre escogemos la tarifa gratis. Posteriormente nos habilitara la opcion del usuario y password:\n",
    "\n",
    "![](https://i.imgur.com/QNLNmkc.png)\n",
    "\n"
   ]
  },
  {
   "attachments": {},
   "cell_type": "markdown",
   "metadata": {},
   "source": [
    "Mi Usuario sera *ccrispin* y el password voy a darle la opcion de autogeneralo.\n",
    "\n",
    "Posteriormente hay que configurar de que IPs tendran acceso a la BD. Si no se le da ninguna IP, solo se va poder conectar servicios que tengan una conexion segura. Para conectarnos desde nuestro entorno local:\n",
    "\n",
    "![](https://i.imgur.com/6pwve8w.png)"
   ]
  },
  {
   "attachments": {},
   "cell_type": "markdown",
   "metadata": {},
   "source": [
    "Le damos *Finish and Close*. Fijate que MongoDB a creado por defecto una estructura de organizacion y proyecto. \n",
    "\n",
    "![](https://i.imgur.com/UHM6lbA.png)\n",
    "\n"
   ]
  },
  {
   "attachments": {},
   "cell_type": "markdown",
   "metadata": {},
   "source": [
    "Dentro de nuestro *proyecto0* que esta vinculado a la organizacion *Carlos Organization* esta nuestra primer BD, que para mi caso se llama *Cluster0*\n",
    "\n",
    "Ahora mismo cargaremos un set de datos, ve a las lineas punteadas ... y *Load Sample Dataset*, y tardara un poco. \n",
    "\n",
    "Cargara varios datasets, entre otros uno de AirBnB. Aqui la documentacion de los datasets que todavia estan cargando. \n",
    "\n",
    "https://www.mongodb.com/docs/atlas/sample-data/sample-airbnb/#sample-airbnb-listings-dataset\n",
    "\n",
    "POR FIN: \"Sample dataset successfully loaded. VIEW DATA TUTORIALAccess it in Data Explorer by clicking the Collections button, or with the MongoDB Shell.\"\n",
    "\n",
    "Con el boton de *Browse Collections* mostrara los datasets. \n",
    "\n",
    "![](https://i.imgur.com/GSkV1sG.png)\n"
   ]
  },
  {
   "attachments": {},
   "cell_type": "markdown",
   "metadata": {},
   "source": [
    "## Usando Mongo Compass\n",
    "\n",
    "Es una interfax para hacer consultas y conectarnos a bases de datos en la nube, como es el caso de la que acabamos de crear en Mongo Atlas, como tambien a bases de datos locales. \n",
    "\n",
    "Ve al boton de conectar, y deplegara un menu, entre ellas un Shell, nos interesa *Compass*, y descargamos de acuerdo al OS. \n",
    "\n",
    "Pero lo mejor es instalarlo desde la terminal:\n",
    "\n",
    "    wget https://downloads.mongodb.com/compass/mongodb-compass_1.30.1_amd64.deb\n",
    "\n",
    "Y asegurando que estemos en el archivo de descargas, que es donde descargo el .deb, entonces:\n",
    "\n",
    "    sudo dpkg -i mongodb-compass_1.30.1_amd64.deb\n",
    "\n",
    "Sin embargo, siguen apareciendo errores que falta una dependencia. Finalmente la pude instalar:\n",
    "\n",
    "    sudo apt-get install libgconf-2-4 \n",
    "\n",
    "Y ahora, no desde la terminal, busco *MongoDB-compass*, y ahi esta. 😊\n",
    "\n",
    "Voy a mongoDB Atlas, y como igualmente tengo ya instalado *Compass*, lo selecciono, y copio la *connection string*\n",
    "\n",
    "![](https://i.imgur.com/WdRIqot.png)\n",
    "\n",
    "\n"
   ]
  },
  {
   "attachments": {},
   "cell_type": "markdown",
   "metadata": {},
   "source": [
    "Cuando vayas a *Compass*, sustituye el password, que se creo anteriormente, como yo le di en esa ocasion autogenerar, y ni lo anote, lo mejor es generar uno nuevo y esta vez copiarlo. Recuerda desde el modulo *DataBase Access* puedes cambiar el password\n",
    "\n",
    "![](https://i.imgur.com/xu9OWJ8.png)\n",
    "\n"
   ]
  },
  {
   "attachments": {},
   "cell_type": "markdown",
   "metadata": {},
   "source": [
    "En el siguiente panel, podemos ver algunas cosas importantes:\n",
    "\n",
    "![](https://i.imgur.com/hltKtZj.png)\n",
    "\n",
    "El primero es el numero de hosts, que son 3, siendo el numero de replicas o clusterizacion; tambien los data sets de prueba que cargamos anteriormente, y lo segundo el nombre de la BD que aparece por defecto es *localhost* pero se puede colocar un nombre mas caracteristico.\n",
    "\n",
    "Aunque la verdad no lo pude hacer.\n",
    "\n",
    "Aun asi puedes explorar cualquier set de datos, y observar que dentro de ellos hay documentos. \n",
    "\n",
    "### Listos para mi primer consulta o Querry\n",
    "\n",
    "Ir a \"Sample Training -> Zips\". Hay 29470 documentos\n",
    "\n",
    "Y vamos a crear un formato Jasson, para mostrar solo los del estado de NY, y donde dice **FILTER**\n",
    "\n",
    "    { state:\"NY\"}\n",
    "\n",
    "Ahora solo hay 1596 documentos\n",
    "\n",
    "### Recuerda Compass no es la unica opcion\n",
    "\n",
    "https://studio3t.com/\n",
    "\n",
    "https://www.jetbrains.com/datagrip/"
   ]
  },
  {
   "attachments": {},
   "cell_type": "markdown",
   "metadata": {},
   "source": [
    "## Mongo en VSCODE\n",
    "\n",
    "Crea un *.gitignore* a partir de una plantilla en *https://www.toptal.com/developers/gitignore* para ignorar archivos de Windows, Linux o MAC. \n",
    "\n",
    "Igualmente. otro archivo *.editorconfig* que se crea a partir del repositorio: https://github.com/platzi/curso-mongodb-intro\n",
    "\n",
    "Este archivo es para manejar de manera automatica tabulaciones, etc.\n",
    "\n",
    "### Instalando la extension.\n",
    "\n",
    "Dentro de la pagina de MONGO-->Productos-->Tools para utilizar la API de Mongo para hacer consultas. \n",
    "\n",
    "![](https://i.imgur.com/8r1wWFp.png)\n"
   ]
  },
  {
   "attachments": {},
   "cell_type": "markdown",
   "metadata": {},
   "source": [
    "Pero preferiblemente, instalarla directamente desde VSCODE desde el panel izquierdo de *Extensions*\n",
    "\n",
    "buscar: MongoDB for VS Code. Instalarlo, y volver a cargar CODE"
   ]
  },
  {
   "attachments": {},
   "cell_type": "markdown",
   "metadata": {},
   "source": [
    "Añade una nueva conexion de la misma forma como hiciste con *COMPASS*. Y hacerlo mediante una *connection string*, abrira un menu arriba, compias la conexion y enter.\n",
    "\n",
    "![](https://i.imgur.com/YbeVZFG.png)\n",
    "\n"
   ]
  },
  {
   "attachments": {},
   "cell_type": "markdown",
   "metadata": {},
   "source": [
    "Crearemos varias carpetas(src de source):\n",
    "\n",
    "![](https://i.imgur.com/r4AX1ya.png)\n",
    "\n",
    "muy importante el archivo con la extension adecuada"
   ]
  },
  {
   "attachments": {},
   "cell_type": "markdown",
   "metadata": {},
   "source": [
    "Y dentro del archivo.mongodb:\n",
    "\n",
    "    use(\"sample_training\")\n",
    "\n",
    "    db.zips.find({ state:\"NY\"})\n",
    "\n",
    "Tambien podemos contarlos:\n",
    "\n",
    "    db.zips.find({ state:\"NY\"}).count()\n",
    "\n",
    "Y arroja que hay 1596 como en la seccion anterior"
   ]
  }
 ],
 "metadata": {
  "kernelspec": {
   "display_name": "Python 3",
   "language": "python",
   "name": "python3"
  },
  "language_info": {
   "name": "python",
   "version": "3.10.6"
  },
  "orig_nbformat": 4,
  "vscode": {
   "interpreter": {
    "hash": "916dbcbb3f70747c44a77c7bcd40155683ae19c65e1c03b4aa3499c5328201f1"
   }
  }
 },
 "nbformat": 4,
 "nbformat_minor": 2
}
