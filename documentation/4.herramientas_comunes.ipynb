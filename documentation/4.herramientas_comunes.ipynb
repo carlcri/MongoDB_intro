{
 "cells": [
  {
   "attachments": {},
   "cell_type": "markdown",
   "metadata": {},
   "source": [
    "# Herramientas comunes al trabajar con MongoDB"
   ]
  },
  {
   "attachments": {},
   "cell_type": "markdown",
   "metadata": {},
   "source": [
    "## Agregation Frameworks\n",
    "\n",
    "Esta herramienta esta pensada para analisis de datos casi al nivel de *data science*, y generar insights de los datos mucho mas profundos.\n",
    "\n",
    "hasta ahora en la seccion anterior hizimos uso de del *Mongo Querry Languaje*, un pedacito nada mas de lo que se puede hacer con este framework\n",
    "\n",
    "![](https://i.imgur.com/TVEfIZ3.png)\n",
    "\n",
    "El Agregation Framework funciona como *pipelines*, donde la salida de datos de una es la entrada de otra. \n",
    "\n",
    "![](https://i.imgur.com/tNlFceS.png)\n",
    "\n",
    "### Manos a la obra\n",
    "\n",
    "Crearemos un nuevo folder *20_agregation*. Nos interesa la habitacion tenga *Wifi*. "
   ]
  },
  {
   "attachments": {},
   "cell_type": "markdown",
   "metadata": {},
   "source": [
    "Y usando:\n",
    "\n",
    "    use(\"sample_airbnb\")\n",
    "    db.listingsAndReviews.find().count()\n",
    "\n",
    "![](https://i.imgur.com/gFPl3vY.png)"
   ]
  },
  {
   "attachments": {},
   "cell_type": "markdown",
   "metadata": {},
   "source": [
    "    use(\"sample_airbnb\")\n",
    "    db.listingsAndReviews.find( \n",
    "        { amenities: { $all: [\"Wifi\"]}\n",
    "        },\n",
    "\n",
    "        {amenities: 1}\n",
    "    ).count()\n",
    "\n",
    "para un total de 5303 de 5555"
   ]
  },
  {
   "attachments": {},
   "cell_type": "markdown",
   "metadata": {},
   "source": [
    "### Usando Agregation framework\n",
    "\n",
    "Cambiara substancialmente. \n",
    "\n",
    "- Ahora usamos *aggregate* en lugar de *find*\n",
    "- Las projection(solo mostrar info relevante) se hacen con el operado $project\n",
    "- *aggregate* funciona en forma de pipelines, donde cada pipeline hace un proceso: [], [], []\n",
    "- Parece ser tampoco deja usar *count*\n",
    "- tampoco pude usar el operador $all, toco cambiarlo por *match*\n",
    "\n",
    "![](https://i.imgur.com/2Q6ihGB.png)\n",
    "\n",
    "\n",
    "    use(\"sample_airbnb\")\n",
    "    db.listingsAndReviews.aggregate(\n",
    "        [\n",
    "            {\n",
    "            $match: {\n",
    "                amenities: \"Wifi\"\n",
    "            }\n",
    "            },\n",
    "            {\n",
    "                $project: {\n",
    "                    price: 1,\n",
    "                    amenities:1\n",
    "                }\n",
    "            }\n",
    "        ]\n",
    "    )"
   ]
  },
  {
   "attachments": {},
   "cell_type": "markdown",
   "metadata": {},
   "source": [
    "#### Y si hacen lo mismo, para que\n",
    "\n",
    "Ya no nos interesa en la proyection ni el precion ni amenities. Para este ejemplo nos interesar el campo *address* donde asu vez esta el pais.\n",
    "\n",
    "![](https://i.imgur.com/HaK0m5I.png)"
   ]
  },
  {
   "attachments": {},
   "cell_type": "markdown",
   "metadata": {},
   "source": [
    "Aqui tambien podemos agrupar los datos, por ejemplo los paises donde hay Wifi, y cuantos por cada pais:\n",
    "\n",
    "![](https://i.imgur.com/C5Lj4pt.png)"
   ]
  },
  {
   "attachments": {},
   "cell_type": "markdown",
   "metadata": {},
   "source": [
    "Y el resultado:\n",
    "\n",
    "![](https://i.imgur.com/46H9jCA.png)"
   ]
  },
  {
   "attachments": {},
   "cell_type": "markdown",
   "metadata": {},
   "source": [
    "### Un paso mas\n",
    "\n",
    "Para que nos cuente por cada pais, cuandos hoteles tienen wifi(count y operador de suma)\n",
    "\n",
    "![](https://i.imgur.com/QmmbvV8.png)\n",
    "\n",
    "Y aqui el resultado: \n",
    "\n",
    "![](https://i.imgur.com/wjAkEyD.png)"
   ]
  },
  {
   "attachments": {},
   "cell_type": "markdown",
   "metadata": {},
   "source": [
    "## SORT, LIMIT and SKIP\n",
    "\n",
    "use(\"sample_training\")\n",
    "db.zips.findOne()\n",
    "\n",
    "![](https://i.imgur.com/2xVMtjy.png)"
   ]
  },
  {
   "attachments": {},
   "cell_type": "markdown",
   "metadata": {},
   "source": [
    "Realizames una busqueda donde la poblacion es mayor que 100: 28754/29470\n",
    "\n",
    "    db.zips.find(\n",
    "        {\n",
    "            pop : {$gte: 100}\n",
    "        },\n",
    "    ).count()\n",
    "\n",
    "### sort\n",
    "\n",
    "Hay que decirle por cual de los atributos se va organizar:\n",
    "\n",
    "- 1 es ascendente\n",
    "- -1 es descendente\n",
    "\n",
    "![](https://i.imgur.com/8cfRqrY.png)"
   ]
  },
  {
   "attachments": {},
   "cell_type": "markdown",
   "metadata": {},
   "source": [
    "### limit\n",
    "\n",
    "si de ese conjunto de datos que ya estan ordenados, mostrar por ejemplo los dos con mayor poblacion.  \n",
    "\n",
    "![](https://i.imgur.com/HyFnOEa.png)"
   ]
  },
  {
   "attachments": {},
   "cell_type": "markdown",
   "metadata": {},
   "source": [
    "### Paginacion\n",
    "\n",
    "Supongos que tenemos 6 documentos, donde la paginacion viene dada por un *limit* y un *offset* o un *skip* \n",
    "\n",
    "![](https://i.imgur.com/DqUF4Uq.png)\n",
    "\n",
    "\n",
    "Si  quisiera ir a los siguientes dos documentos, mantendria igual el limit, y variaria el *offset*\n",
    "\n",
    "![](https://i.imgur.com/gFbclcH.png)\n",
    "\n",
    "Y si vuelvo a modificar el *offset* para acceder los ultimo documentos, entonces:\n",
    "\n",
    "![](https://i.imgur.com/k04lLka.png)"
   ]
  },
  {
   "attachments": {},
   "cell_type": "markdown",
   "metadata": {},
   "source": [
    "Para ilustrar mejor este concepto, vayamos a un dataset:\n",
    "\n",
    "    use(\"platzi_store\")\n",
    "    db.categories\n",
    "        .find()\n",
    "        .skip(0)\n",
    "        .limit(2)\n",
    "\n",
    "De esta forma, mostrara los dos primeros.\n",
    "\n",
    "Si queremos ir a la siguiente pagina:\n",
    "\n",
    "    use(\"platzi_store\")\n",
    "    db.categories\n",
    "        .find()\n",
    "        .skip(2)\n",
    "        .limit(2)\n",
    "\n",
    "![](https://i.imgur.com/raaX38e.png)\n",
    "\n",
    "Y asi sucesivamente"
   ]
  },
  {
   "attachments": {},
   "cell_type": "markdown",
   "metadata": {},
   "source": [
    "## Atlas Features\n",
    "\n",
    "Abrimos el dashboard, y podemos hacer cantidad de cosas. Por ejemplo *browse collections*\n",
    "\n",
    "![](https://i.imgur.com/TnLbMCX.png)\n",
    "\n",
    "Este servicio en Mongo Atlas autogestiona la BD.\n",
    "\n",
    "Ademas de la autogestion, ofrece: *Mongo Atlas Search* para hacer busquedas basadas en AI, PNL\n",
    "\n",
    "![](https://i.imgur.com/xhNLnFN.png)\n",
    "\n",
    "Tambien esta *App Services* para sincronizacion con lenguajes nativos: Este tipo de aplicaciones que necesitan sincronizar datos.\n",
    "\n",
    "Tambien tiene *Charts* o graficas\n",
    "\n",
    "![](https://i.imgur.com/6uLPsTC.png)\n",
    "\n",
    "Aqui un ejercicio usando el dataser de Airbnb:\n",
    "\n",
    "![](https://i.imgur.com/2NL6R5C.png)\n",
    "\n",
    "\n",
    "### Alternativas a Mongo Atlas.\n",
    "\n",
    "Digital OCean "
   ]
  },
  {
   "cell_type": "markdown",
   "metadata": {},
   "source": [
    "\n",
    "### Curso adicional en Python\n",
    "\n",
    "https://learn.mongodb.com/courses/mongodb-crud-operations-in-python"
   ]
  },
  {
   "attachments": {},
   "cell_type": "markdown",
   "metadata": {},
   "source": [
    "## Despedida\n",
    "\n",
    "Si se quisiera conectar Mongo con un lenguaje como Python, lo aprendido servira, porque las interfaxes para Python son exactamente igual a lo visto en el curso.\n",
    "\n",
    "En el curos lo vimos de forma agnostica, es decir, sin importar el lenguaje, sin embargo si se mira la libreria de *pymongo*, puedes hacer conexiones, hacer un find, etc\n",
    "\n",
    "![](https://i.imgur.com/Dx3ewY6.png)"
   ]
  }
 ],
 "metadata": {
  "language_info": {
   "name": "python"
  },
  "orig_nbformat": 4
 },
 "nbformat": 4,
 "nbformat_minor": 2
}
