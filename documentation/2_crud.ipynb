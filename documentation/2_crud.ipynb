{
 "cells": [
  {
   "attachments": {},
   "cell_type": "markdown",
   "metadata": {},
   "source": [
    "## Insertando un documento\n",
    "\n",
    "Usa alguna de las formas de conectarse a la DB de Mongo Atlas(nube) en este caso desde VSCode. Creamos una nueva carpeta *04-insert-doc* y dentro un archivo .mongodb\n",
    "\n",
    "Vamos a crear una nueva BD. No es necesario crearla explicitamente, simplemente si le decimos vamos a usar tal base de datos y esta no esta creada, el inmediatamtente la crea. Lo mismo para las colecciones.\n",
    "\n",
    "La primera instruccion para insertar un documento es *insertOne*\n",
    "\n",
    "    use(\"platzi_store\")\n",
    "    db.products.insertOne({\n",
    "        name: \"Licuadora\",\n",
    "        price: 1100\n",
    "    })\n",
    "\n",
    "    db.products.insertOne({\n",
    "        name: \"Microondas\",\n",
    "        price: 360\n",
    "    })"
   ]
  },
  {
   "attachments": {},
   "cell_type": "markdown",
   "metadata": {},
   "source": [
    "Al correr el documento, sale:\n",
    "\n",
    "![](https://i.imgur.com/McWuZYY.png)\n",
    "\n",
    "Como si solo hubiera insertado uno solo,SIgnigica el *playground* que estamos corriendo se queda solo con la ultima instruccion.\n",
    "\n",
    "Pero si revisamos encontraremos efectivamente estan los dos docs. \n",
    "\n",
    "    db.products.find().count()"
   ]
  },
  {
   "attachments": {},
   "cell_type": "markdown",
   "metadata": {},
   "source": [
    "Al intentar usar el comando *show collections* en VScode no lo deja hacer, pero desde la *MongoSh* si.\n",
    "\n",
    "    show collections\n"
   ]
  },
  {
   "attachments": {},
   "cell_type": "markdown",
   "metadata": {},
   "source": [
    "Observa esta consulta:\n",
    "\n",
    "    [\n",
    "    {\n",
    "        \"_id\": {\n",
    "        \"$oid\": \"640b9e7fc3aa787c39b067be\"\n",
    "        },\n",
    "        \"name\": \"Licuadora\",\n",
    "        \"price\": 1100\n",
    "    },\n",
    "    {\n",
    "        \"_id\": {\n",
    "        \"$oid\": \"640b9e7fc3aa787c39b067bf\"\n",
    "        },\n",
    "        \"name\": \"Microondas\",\n",
    "        \"price\": 360\n",
    "    }\n",
    "    ]"
   ]
  },
  {
   "attachments": {},
   "cell_type": "markdown",
   "metadata": {},
   "source": [
    "*oid* es object id y es unico y asignado directamete por mongo, igualmente tu puedes asignar tus propios IDs, pero ten cuidado.\n",
    "\n",
    "    db.products.insertOne({\n",
    "        _id: 1,\n",
    "        name: \"tostadora\",\n",
    "        price: \"341\"    \n",
    "    })"
   ]
  },
  {
   "attachments": {},
   "cell_type": "markdown",
   "metadata": {},
   "source": [
    "## Insertando varios documentos\n",
    "\n",
    "Crearemos una nueva carpeta llamada *05-insert-many* y dentro el archivo *products.mongodb*. Usar la siguiente funcion con cuidado para borrar todos los documentos de una coleccion:\n",
    "\n",
    "    use(\"platzi_store\")\n",
    "    db.products.drop()\n",
    "\n",
    "Al parecer como esta BD de datos solo contenia una coleccion cuyos documentos fueron borrados en su totalidad, al consultar con el comando *show dbs* desde mongo shell, pues *platzi_store* tambien fue borrada. Igualmente este no es un problema por ahora.\n",
    "\n",
    "Al usar la instruccion *insertMany* se usa la estructura de un array:\n",
    "\n",
    "        db.products.insertMany([{\n",
    "            name: \"ducha\",\n",
    "            price: 540\n",
    "        },\n",
    "        {\n",
    "            name: \"horno\",\n",
    "            price: 1200\n",
    "        },\n",
    "        {\n",
    "            name: \"nevera\",\n",
    "            price: 980\n",
    "        },\n",
    "        ])\n"
   ]
  },
  {
   "attachments": {},
   "cell_type": "markdown",
   "metadata": {},
   "source": [
    "### ¿QUe pasa si tenemos ids duplicados?\n",
    "\n",
    "volvamos a realizar el ejercicio esta vez asignando manualmente los IDs.\n",
    "\n",
    "    db.products.insertMany([{\n",
    "        _id : 1,\n",
    "        name: \"ducha\",\n",
    "        price: 540\n",
    "    },\n",
    "    {\n",
    "        _id : 2,\n",
    "        name: \"horno\",\n",
    "        price: 1200\n",
    "    },\n",
    "    {\n",
    "        _id : 1,\n",
    "        name: \"nevera\",\n",
    "        price: 980\n",
    "    },\n",
    "    {\n",
    "        _id : 4,\n",
    "        name: \"plancha\",\n",
    "        price: 120\n",
    "    },\n",
    "    ])\n"
   ]
  },
  {
   "attachments": {},
   "cell_type": "markdown",
   "metadata": {},
   "source": [
    "En este caso, saldra un error de duplicacion, sin embargo insertara los dos primeros documentos. ¿COmo podriamos entonces dejar solo por fuera los que tienen error de duplicacion, pero los demas no?\n",
    "\n",
    "Con la instruccion *ordered=false*. Pero a mi no me funciona"
   ]
  },
  {
   "attachments": {},
   "cell_type": "markdown",
   "metadata": {},
   "source": [
    "## Actualizando un documento\n",
    "\n",
    "### Desde Mongo Atlas\n",
    "\n",
    "Directamente desde la interfax grafica\n",
    "\n",
    "### Con Comandos\n",
    "\n",
    "Crear una nueva carpeta *06-update-doc* y dentro el respectivo playground\n",
    "\n",
    "#### updateOne\n",
    "\n",
    "Se debe hacer uso de los *operadores atomicos*. Por ejemplo, si queremos cambiar el nombre del documento con ID = 2, el *atomic operator* es *$set*.\n",
    "\n",
    "La primera parte corresponde al *query* y la segunda parte a la respectiva actualizacion.\n",
    "\n",
    "    db.products.updateOne(\n",
    "    // query\n",
    "    {\n",
    "        _id:2},\n",
    "    {\n",
    "        /**\n",
    "         * field: The field name\n",
    "         * expression: The expression.\n",
    "         */\n",
    "        $set: {\n",
    "          name: \"horno magico\"\n",
    "        }\n",
    "    }\n",
    "    )"
   ]
  },
  {
   "attachments": {},
   "cell_type": "markdown",
   "metadata": {},
   "source": [
    "##### Ejemplo. \n",
    "\n",
    "Actualizar el documento correspondiente al de la nevera, y cambiar su nombre y precio:\n",
    "\n",
    "    use(\"platzi_store\")\n",
    "    \n",
    "    db.products.updateOne(\n",
    "        // query\n",
    "        {\n",
    "            name:\"nevera\"},\n",
    "        {\n",
    "\n",
    "            $set: {\n",
    "            name: \"nevera magica\",\n",
    "            price: 1234\n",
    "            }\n",
    "        }\n",
    "    )"
   ]
  },
  {
   "attachments": {},
   "cell_type": "markdown",
   "metadata": {},
   "source": [
    "##### Ejemplo2.\n",
    "\n",
    "Actualizar el documento correspondiente a la ducha, y cambiar nombre y precio, y ademas agregar un nuevo atributo llamado tags.\n",
    "\n",
    "    db.products.updateOne(\n",
    "        {\n",
    "            name:\"ducha\"\n",
    "        },\n",
    "        {\n",
    "            $set: {\n",
    "            name: \"ducha magica\",\n",
    "            price: 56789,\n",
    "            tags: ['A', 'B', 'C'],\n",
    "            }\n",
    "        }\n",
    "    )"
   ]
  },
  {
   "attachments": {},
   "cell_type": "markdown",
   "metadata": {},
   "source": [
    "#### Operador $inc\n",
    "\n",
    "al igual que $set, otro operador es $inc que es para incrementar atributos numericos. El valor actual mas el incremento. Tambien se pueden incrementos negativos.\n",
    "\n",
    "    db.products.updateOne(\n",
    "    {\n",
    "        _id:4\n",
    "    },\n",
    "    {\n",
    "\n",
    "        $inc: {\n",
    "          price: 240,\n",
    "        }\n",
    "    })\n"
   ]
  },
  {
   "attachments": {},
   "cell_type": "markdown",
   "metadata": {},
   "source": [
    "#### Funcion ObjectId\n",
    "\n",
    "Para los IDs generados autogenerados, se necesita dicha funcion para el query. \n",
    "\n",
    "    db.products.updateOne(\n",
    "    {\n",
    "        _id: ObjectId(\"640e4b1fb946da9d6a2d47e9\")\n",
    "    },\n",
    "    {\n",
    "        $inc: {\n",
    "            price:1000,\n",
    "        }\n",
    "    }\n",
    "\n",
    "    )"
   ]
  }
 ],
 "metadata": {
  "language_info": {
   "name": "python"
  },
  "orig_nbformat": 4
 },
 "nbformat": 4,
 "nbformat_minor": 2
}
