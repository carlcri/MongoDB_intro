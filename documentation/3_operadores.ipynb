{
 "cells": [
  {
   "attachments": {},
   "cell_type": "markdown",
   "metadata": {},
   "source": [
    "## Usando $eq y $ne\n",
    "\n",
    "Empezaremos a usar consultas mas complejas con los query operators, como son:\n",
    "\n",
    "- $eq (equal)\n",
    "- $ne (not equal)"
   ]
  }
 ],
 "metadata": {
  "language_info": {
   "name": "python"
  },
  "orig_nbformat": 4
 },
 "nbformat": 4,
 "nbformat_minor": 2
}
